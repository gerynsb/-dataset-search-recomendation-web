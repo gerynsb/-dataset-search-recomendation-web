{
 "cells": [
  {
   "cell_type": "code",
   "execution_count": 212,
   "id": "6077bd87",
   "metadata": {},
   "outputs": [],
   "source": [
    "import rdflib\n",
    "import nltk\n",
    "from gensim.models import Word2Vec, FastText\n",
    "from nltk.tokenize import word_tokenize\n",
    "from nltk.corpus import stopwords\n",
    "import string\n",
    "import numpy as np"
   ]
  },
  {
   "cell_type": "code",
   "execution_count": 213,
   "id": "5ebc8189",
   "metadata": {},
   "outputs": [],
   "source": [
    "file_path = 'kaggle_data.ttl'\n",
    "graph = rdflib.Graph()"
   ]
  },
  {
   "cell_type": "code",
   "execution_count": 214,
   "id": "b1371e06",
   "metadata": {},
   "outputs": [
    {
     "data": {
      "text/plain": [
       "<Graph identifier=Nde24043195e44d8b9acf8c8ea34bfac8 (<class 'rdflib.graph.Graph'>)>"
      ]
     },
     "execution_count": 214,
     "metadata": {},
     "output_type": "execute_result"
    }
   ],
   "source": [
    "graph.parse(file_path, format='ttl')"
   ]
  },
  {
   "cell_type": "code",
   "execution_count": 216,
   "id": "258150ce",
   "metadata": {},
   "outputs": [],
   "source": [
    "descriptions = []\n",
    "for subject in graph.subjects(rdflib.RDF.type, rdflib.URIRef(\"http://www.w3.org/ns/dcat#Dataset\")):\n",
    "    description = graph.value(subject, rdflib.URIRef(\"http://www.w3.org/ns/dcat#description\"))\n",
    "    if description:\n",
    "        descriptions.append(str(description))"
   ]
  },
  {
   "cell_type": "code",
   "execution_count": 217,
   "id": "f3ebfa0a",
   "metadata": {},
   "outputs": [],
   "source": [
    "def get_stopwords(language):\n",
    "    if language == 'en':\n",
    "        return set(stopwords.words('english'))\n",
    "    elif language == 'id':\n",
    "        return set(stopwords.words('indonesian'))\n",
    "    else:\n",
    "        return set(stopwords.words('english'))"
   ]
  },
  {
   "cell_type": "code",
   "execution_count": 218,
   "id": "35c8a714",
   "metadata": {},
   "outputs": [],
   "source": [
    "def preprocess_text(text):\n",
    "    # Deteksi bahasa dari teks\n",
    "    language = detect(text)\n",
    "    \n",
    "    # Pilih stopwords yang sesuai berdasarkan bahasa\n",
    "    stop_words = get_stopwords(language)\n",
    "    \n",
    "    # Tokenize teks dan hapus stopwords serta tanda baca\n",
    "    tokens = word_tokenize(text.lower())  # Mengubah teks menjadi lowercase\n",
    "    tokens = [word for word in tokens if word not in stop_words and word not in string.punctuation]\n",
    "    \n",
    "    return tokens"
   ]
  },
  {
   "cell_type": "code",
   "execution_count": 219,
   "id": "e48dbe75",
   "metadata": {},
   "outputs": [],
   "source": [
    "model = Word2Vec(sentences=processed_descriptions, vector_size=100, window=5, min_count=1, workers=4)"
   ]
  },
  {
   "cell_type": "code",
   "execution_count": 220,
   "id": "0a8cb7bb",
   "metadata": {},
   "outputs": [
    {
     "name": "stdout",
     "output_type": "stream",
     "text": [
      "Vektor untuk deskripsi pertama:\n",
      "[-0.00536277 -0.00655301 -0.00772686  0.00848864 -0.00198664 -0.0069392\n",
      " -0.00395922  0.00527567 -0.00302814 -0.00387022  0.00175496 -0.0028354\n",
      " -0.00155322  0.00104516 -0.00290165  0.0085095   0.00400042 -0.01001861\n",
      "  0.00606488 -0.00692831  0.00081072  0.00450551 -0.00480644 -0.00210955\n",
      "  0.00809131 -0.00422534 -0.00766526  0.00929787 -0.00225674 -0.00475391\n",
      "  0.00869525  0.00420321  0.00437402  0.00924373 -0.00848911  0.00540764\n",
      "  0.00215635  0.00420983  0.00166616  0.00444793  0.00457372  0.00614367\n",
      " -0.00330293 -0.00464487 -0.00032022  0.00254502 -0.00333482  0.00616129\n",
      "  0.0041869   0.00778726  0.0025661   0.0081052  -0.0014254   0.00800724\n",
      "  0.00367634 -0.008121   -0.00389475 -0.00251249  0.00492651 -0.00093869\n",
      " -0.0028437   0.00783066  0.00953491 -0.00170527 -0.00523883 -0.00467714\n",
      " -0.00491853 -0.00943604  0.0011914  -0.00431092  0.00253706  0.00572932\n",
      " -0.0039924  -0.00950438  0.00150195 -0.00678263  0.00244961 -0.00378511\n",
      "  0.00700449  0.00054057  0.00349708 -0.00282527 -0.00160577  0.00772157\n",
      "  0.00139623 -0.00598204 -0.0077055   0.00122134  0.00642642  0.00557443\n",
      " -0.00906391  0.00865171  0.00405941  0.00744816  0.01007509 -0.00720722\n",
      " -0.00903188  0.00575121  0.00949098  0.00345716]\n"
     ]
    }
   ],
   "source": [
    "print(f\"Vektor untuk deskripsi pertama:\")\n",
    "print(model.wv[processed_descriptions[0][0]]) "
   ]
  },
  {
   "cell_type": "code",
   "execution_count": 221,
   "id": "d3bc732c",
   "metadata": {},
   "outputs": [],
   "source": [
    "from sklearn.metrics.pairwise import cosine_similarity\n",
    "\n",
    "vector_1 = np.mean([model.wv[word] for word in processed_descriptions[0] if word in model.wv], axis=0)\n",
    "vector_2 = np.mean([model.wv[word] for word in processed_descriptions[1] if word in model.wv], axis=0)"
   ]
  },
  {
   "cell_type": "code",
   "execution_count": 222,
   "id": "acdca3a1",
   "metadata": {},
   "outputs": [
    {
     "name": "stdout",
     "output_type": "stream",
     "text": [
      "Cosine similarity antara deskripsi pertama dan kedua: 1.0\n"
     ]
    }
   ],
   "source": [
    "similarity = cosine_similarity([vector_1], [vector_2])\n",
    "print(f\"Cosine similarity antara deskripsi pertama dan kedua: {similarity[0][0]}\")"
   ]
  },
  {
   "cell_type": "code",
   "execution_count": 223,
   "id": "f38ca40d",
   "metadata": {},
   "outputs": [],
   "source": [
    "model.save(\"word2vec_model.model\")"
   ]
  },
  {
   "cell_type": "code",
   "execution_count": 224,
   "id": "e44e2508",
   "metadata": {},
   "outputs": [],
   "source": [
    "import numpy as np \n",
    "\n",
    "def get_semantic_features(description, model):\n",
    "    tokens = preprocess_text(description)\n",
    "    vector = np.mean([model.wv[word] for word in tokens if word in model.wv], axis=0)\n",
    "    return vector if vector is not None else np.zeros(model.vector_size)"
   ]
  },
  {
   "cell_type": "code",
   "execution_count": 225,
   "id": "67faee2a",
   "metadata": {},
   "outputs": [],
   "source": [
    "def preprocess_text(text):\n",
    "    tokens = word_tokenize(text.lower())\n",
    "    tokens = [word for word in tokens if word not in stop_words and word not in string.punctuation]\n",
    "    return tokens"
   ]
  },
  {
   "cell_type": "code",
   "execution_count": 226,
   "id": "782d7252",
   "metadata": {},
   "outputs": [],
   "source": [
    "def combine_features(semantic_feature, structural_features):\n",
    "    # Gabungkan fitur semantik dan struktural menjadi satu vektor\n",
    "    combined_feature = np.concatenate([semantic_feature, structural_features], axis=0)\n",
    "    return combined_feature"
   ]
  },
  {
   "cell_type": "code",
   "execution_count": 227,
   "id": "2d4970d0",
   "metadata": {},
   "outputs": [],
   "source": [
    "model = Word2Vec.load(\"word2vec_model.model\")"
   ]
  },
  {
   "cell_type": "code",
   "execution_count": 228,
   "id": "356e6587",
   "metadata": {},
   "outputs": [],
   "source": [
    "def get_semantic_features(description, model):\n",
    "    tokens = preprocess_text(description)\n",
    "    vector = np.mean([model.wv[word] for word in tokens if word in model.wv], axis=0)\n",
    "    return vector if vector is not None else np.zeros(model.vector_size)"
   ]
  },
  {
   "cell_type": "code",
   "execution_count": 229,
   "id": "9eb0bc7b",
   "metadata": {},
   "outputs": [],
   "source": [
    "categories = []\n",
    "formats = []\n",
    "creators = []"
   ]
  },
  {
   "cell_type": "code",
   "execution_count": 230,
   "id": "783d382d",
   "metadata": {},
   "outputs": [],
   "source": [
    "for subject in graph.subjects(rdflib.RDF.type, rdflib.URIRef(\"http://www.w3.org/ns/dcat#Dataset\")):\n",
    "    category = graph.value(subject, rdflib.URIRef(\"http://www.w3.org/ns/dcat#theme\"))\n",
    "    format_ = graph.value(subject, rdflib.URIRef(\"http://www.w3.org/ns/dcat#mediaType\"))\n",
    "\n",
    "    if category: categories.append(str(category))  \n",
    "    if format_: formats.append(str(format_))"
   ]
  },
  {
   "cell_type": "code",
   "execution_count": 231,
   "id": "17e37e55",
   "metadata": {},
   "outputs": [],
   "source": [
    "from sklearn.preprocessing import LabelEncoder\n",
    "\n",
    "encoder = LabelEncoder()\n",
    "encoded_categories = encoder.fit_transform(categories) \n",
    "encoded_formats = encoder.fit_transform(formats)"
   ]
  },
  {
   "cell_type": "code",
   "execution_count": 232,
   "id": "89e7066f",
   "metadata": {},
   "outputs": [
    {
     "name": "stdout",
     "output_type": "stream",
     "text": [
      "Panjang descriptions: 20\n",
      "Panjang encoded_categories: 18\n",
      "Panjang encoded_formats: 20\n"
     ]
    }
   ],
   "source": [
    "print(f\"Panjang descriptions: {len(descriptions)}\")\n",
    "print(f\"Panjang encoded_categories: {len(encoded_categories)}\")\n",
    "print(f\"Panjang encoded_formats: {len(encoded_formats)}\")"
   ]
  },
  {
   "cell_type": "code",
   "execution_count": 233,
   "id": "69247a85",
   "metadata": {},
   "outputs": [],
   "source": [
    "default_category = -1 \n",
    "default_format = \"N/A\""
   ]
  },
  {
   "cell_type": "code",
   "execution_count": 234,
   "id": "d9cc8477",
   "metadata": {},
   "outputs": [
    {
     "name": "stderr",
     "output_type": "stream",
     "text": [
      "c:\\Users\\ACER\\miniconda3\\envs\\latihan\\lib\\site-packages\\numpy\\core\\fromnumeric.py:3464: RuntimeWarning: Mean of empty slice.\n",
      "  return _methods._mean(a, axis=axis, dtype=dtype,\n",
      "c:\\Users\\ACER\\miniconda3\\envs\\latihan\\lib\\site-packages\\numpy\\core\\_methods.py:192: RuntimeWarning: invalid value encountered in scalar divide\n",
      "  ret = ret.dtype.type(ret / rcount)\n"
     ]
    }
   ],
   "source": [
    "all_features = []\n",
    "for i in range(len(descriptions)):\n",
    "    # Cek apakah kategori dan format ada\n",
    "    if i < len(encoded_categories) and i < len(encoded_formats):\n",
    "        category = encoded_categories[i]\n",
    "        format_ = encoded_formats[i]\n",
    "    else:\n",
    "        category = default_category  # Jika tidak ada kategori, gunakan nilai default\n",
    "        format_ = default_format  # Jika tidak ada format, gunakan nilai default\n",
    "    \n",
    "    # Ambil fitur semantik (vektor 1D)\n",
    "    semantic_feature = get_semantic_features(descriptions[i], model)  \n",
    "    \n",
    "    # Gabungkan fitur semantik dan struktural menjadi satu vektor (pastikan keduanya 1D)\n",
    "    structural_features = np.array([category, format_])  # Gunakan kategori dan format\n",
    "    combined_feature = np.concatenate([semantic_feature.flatten(), structural_features.flatten()], axis=0)  \n",
    "    \n",
    "    # Simpan fitur gabungan\n",
    "    all_features.append(combined_feature)"
   ]
  },
  {
   "cell_type": "code",
   "execution_count": 235,
   "id": "73dae86c",
   "metadata": {},
   "outputs": [],
   "source": [
    "import pandas as pd\n",
    "combined_features_df = pd.DataFrame(all_features, columns=[f'feature_{i+1}' for i in range(len(all_features[0]))])"
   ]
  },
  {
   "cell_type": "code",
   "execution_count": 236,
   "id": "eef29133",
   "metadata": {},
   "outputs": [
    {
     "name": "stdout",
     "output_type": "stream",
     "text": [
      "       feature_1     feature_2    feature_3    feature_4    feature_5  \\\n",
      "0      -0.006503      0.007063      0.00054     0.005804     0.006954   \n",
      "1            NaN           2.0          1.0         None         None   \n",
      "2       0.000007      0.003125    -0.006785    -0.001309     0.007658   \n",
      "3      -0.005363     -0.006553    -0.007727     0.008489    -0.001987   \n",
      "4      -0.008807      0.002166    -0.000856     -0.00925    -0.009446   \n",
      "5      -0.003091      0.001294     0.000469     0.003388    -0.000438   \n",
      "6            NaN           6.0          1.0         None         None   \n",
      "7      -0.008807      0.002166    -0.000856     -0.00925    -0.009446   \n",
      "8            NaN           1.0          0.0         None         None   \n",
      "9            NaN           8.0          3.0         None         None   \n",
      "10     -0.009758      0.009032     0.004203      0.00936     0.006601   \n",
      "11      0.000007      0.003125    -0.006785    -0.001309     0.007658   \n",
      "12     -0.002678     -0.001714    -0.007256      0.00359     0.002836   \n",
      "13     -0.004875      0.006079    -0.001291     0.004026      0.00713   \n",
      "14           NaN           7.0          1.0         None         None   \n",
      "15     -0.008807      0.002166    -0.000856     -0.00925    -0.009446   \n",
      "16     -0.008807      0.002166    -0.000856     -0.00925    -0.009446   \n",
      "17       0.00799     -0.004373    -0.001005     0.001153    -0.000227   \n",
      "18  -0.009757555  0.0090323705  0.004202708  0.009360338  0.006601476   \n",
      "19  -0.009757555  0.0090323705  0.004202708  0.009360338  0.006601476   \n",
      "\n",
      "      feature_6    feature_7      feature_8     feature_9    feature_10  ...  \\\n",
      "0      0.004356     0.005474       -0.00199     -0.007454      0.004808  ...   \n",
      "1          None         None           None          None          None  ...   \n",
      "2      0.007326    -0.003575       0.002684     -0.008408       0.00616  ...   \n",
      "3     -0.006939    -0.003959       0.005276     -0.003028      -0.00387  ...   \n",
      "4     -0.001455     0.004496       0.003766     -0.006554     -0.006924  ...   \n",
      "5     -0.001452     0.003331       0.003395     -0.004167     -0.002122  ...   \n",
      "6          None         None           None          None          None  ...   \n",
      "7     -0.001455     0.004496       0.003766     -0.006554     -0.006924  ...   \n",
      "8          None         None           None          None          None  ...   \n",
      "9          None         None           None          None          None  ...   \n",
      "10     0.002872     0.009998      -0.004326     -0.006977      0.004132  ...   \n",
      "11     0.007326    -0.003575       0.002684     -0.008408       0.00616  ...   \n",
      "12     0.000193    -0.003767        0.00398     -0.005718      0.001145  ...   \n",
      "13     0.005099     0.003211      -0.000821     -0.007692      0.005146  ...   \n",
      "14         None         None           None          None          None  ...   \n",
      "15    -0.001455     0.004496       0.003766     -0.006554     -0.006924  ...   \n",
      "16    -0.001455     0.004496       0.003766     -0.006554     -0.006924  ...   \n",
      "17     0.001097     0.006301       0.000069     -0.003412     -0.001603  ...   \n",
      "18  0.002871746  0.009998101  -0.0043262276  -0.006976524  0.0041318703  ...   \n",
      "19  0.002871746  0.009998101  -0.0043262276  -0.006976524  0.0041318703  ...   \n",
      "\n",
      "     feature_93     feature_94   feature_95   feature_96    feature_97  \\\n",
      "0      0.004967       -0.00241     0.009522     0.007435      0.003576   \n",
      "1          None           None         None         None          None   \n",
      "2       0.00917      -0.004115     0.008103     0.005425       0.00589   \n",
      "3      0.004059       0.007448     0.010075    -0.007207     -0.009032   \n",
      "4     -0.008199      -0.003015      0.01001     0.005126     -0.001607   \n",
      "5      0.000886      -0.000884     0.006071     0.001527       0.00033   \n",
      "6          None           None         None         None          None   \n",
      "7     -0.008199      -0.003015      0.01001     0.005126     -0.001607   \n",
      "8          None           None         None         None          None   \n",
      "9          None           None         None         None          None   \n",
      "10     0.002866      -0.001558     0.010231      0.00844       0.00242   \n",
      "11      0.00917      -0.004115     0.008103     0.005425       0.00589   \n",
      "12     0.006614       0.001666     0.009089    -0.000891     -0.001571   \n",
      "13     0.006018      -0.002837     0.009167     0.006933      0.004155   \n",
      "14         None           None         None         None          None   \n",
      "15    -0.008199      -0.003015      0.01001     0.005126     -0.001607   \n",
      "16    -0.008199      -0.003015      0.01001     0.005126     -0.001607   \n",
      "17     -0.00355      -0.000435     -0.00044      0.00092      0.008195   \n",
      "18  0.002866326  -0.0015581257  0.010231109  0.008439998  0.0024196834   \n",
      "19  0.002866326  -0.0015581257  0.010231109  0.008439998  0.0024196834   \n",
      "\n",
      "     feature_98    feature_99    feature_100 feature_101 feature_102  \n",
      "0      0.004849      0.006752      -0.006105         5.0         2.0  \n",
      "1          None          None           None        None        None  \n",
      "2      0.000475      0.008262       -0.00705         1.0         1.0  \n",
      "3      0.005751      0.009491       0.003457         0.0         1.0  \n",
      "4     -0.008726      0.002997      -0.006684        11.0         1.0  \n",
      "5     -0.002314      0.001858      -0.000017         3.0         1.0  \n",
      "6          None          None           None        None        None  \n",
      "7     -0.008726      0.002997      -0.006684        10.0         1.0  \n",
      "8          None          None           None        None        None  \n",
      "9          None          None           None        None        None  \n",
      "10     0.007036      0.005997      -0.005633         8.0         1.0  \n",
      "11     0.000475      0.008262       -0.00705         9.0         1.0  \n",
      "12     0.003113      0.008876      -0.001797         3.0         1.0  \n",
      "13     0.003755       0.00713      -0.006342         4.0         1.0  \n",
      "14         None          None           None        None        None  \n",
      "15    -0.008726      0.002997      -0.006684        12.0         1.0  \n",
      "16    -0.008726      0.002997      -0.006684        13.0         1.0  \n",
      "17    -0.005822     -0.001563       0.005523         2.0         1.0  \n",
      "18  0.007035973  0.0059974804  -0.0056327293          -1         N/A  \n",
      "19  0.007035973  0.0059974804  -0.0056327293          -1         N/A  \n",
      "\n",
      "[20 rows x 102 columns]\n"
     ]
    }
   ],
   "source": [
    "print(combined_features_df)"
   ]
  },
  {
   "cell_type": "code",
   "execution_count": 237,
   "id": "a91e3c33",
   "metadata": {},
   "outputs": [],
   "source": [
    "from sklearn.metrics.pairwise import cosine_similarity\n",
    "from sklearn.neighbors import NearestNeighbors"
   ]
  },
  {
   "cell_type": "code",
   "execution_count": 238,
   "id": "96ab526d",
   "metadata": {},
   "outputs": [
    {
     "name": "stdout",
     "output_type": "stream",
     "text": [
      "[[ 1.00000000e+00  1.21795676e-03  9.18567266e-01  3.70797933e-01\n",
      "   9.58240993e-01  9.98242913e-01  1.31021466e-03  9.60773835e-01\n",
      "   1.31157264e-03  1.26327749e-03  9.67368055e-01  9.63787914e-01\n",
      "   9.98206883e-01  9.90825412e-01  1.31257365e-03  9.56067307e-01\n",
      "   9.54183428e-01  9.96217172e-01 -9.26449512e-01 -9.26449512e-01]\n",
      " [ 1.21795676e-03  1.00000000e+00 -1.68998306e-04 -9.30178436e-03\n",
      "   1.40707557e-04  4.32242409e-04  9.55779009e-01  1.54644746e-04\n",
      "   8.94427191e-01  9.94505453e-01  1.23514424e-03 -2.64139826e-05\n",
      "  -1.51080829e-03  1.17854691e-03  9.48683298e-01  1.29066778e-04\n",
      "   1.19199626e-04 -1.94946087e-03  9.94178586e-03  9.94178586e-03]\n",
      " [ 9.18567266e-01 -1.68998306e-04  1.00000000e+00  7.05334964e-01\n",
      "   7.67602016e-01  8.93781374e-01  1.38985988e-03  7.73332223e-01\n",
      "   2.20801983e-03  3.84171713e-04  7.88751503e-01  7.80473819e-01\n",
      "   8.93984591e-01  8.57083996e-01  1.50786384e-03  7.62771694e-01\n",
      "   7.58645845e-01  9.47771810e-01 -7.04886110e-01 -7.04886110e-01]\n",
      " [ 3.70797933e-01 -9.30178436e-03  7.05334964e-01  1.00000000e+00\n",
      "   9.03575417e-02  3.15794653e-01 -7.72171617e-03  9.93075240e-02\n",
      "  -6.54248592e-03 -8.83464480e-03  1.23855425e-01  1.10241966e-01\n",
      "   3.16188998e-01  2.42143547e-01 -7.56771865e-03  8.28822346e-02\n",
      "   7.65458894e-02  4.46368025e-01  1.85676071e-04  1.85676071e-04]\n",
      " [ 9.58240993e-01  1.40707557e-04  7.67602016e-01  9.03575417e-02\n",
      "   1.00000000e+00  9.73394732e-01  1.80648606e-04  9.99959262e-01\n",
      "   1.96052728e-04  1.56367025e-04  9.99393310e-01  9.99766346e-01\n",
      "   9.73323336e-01  9.88048277e-01  1.83125850e-04  9.99971624e-01\n",
      "   9.99903183e-01  9.30942473e-01 -9.94201392e-01 -9.94201392e-01]\n",
      " [ 9.98242913e-01  4.32242409e-04  8.93781374e-01  3.15794653e-01\n",
      "   9.73394732e-01  1.00000000e+00  4.27953949e-04  9.75416411e-01\n",
      "   4.09154709e-04  4.35144899e-04  9.80552863e-01  9.77779014e-01\n",
      "   9.99936306e-01  9.97009564e-01  4.26003121e-04  9.71646719e-01\n",
      "   9.70122754e-01  9.89673409e-01 -9.46958545e-01 -9.46958545e-01]\n",
      " [ 1.31021466e-03  9.55779009e-01  1.38985988e-03 -7.72171617e-03\n",
      "   1.80648606e-04  4.27953949e-04  1.00000000e+00  1.98541986e-04\n",
      "   9.86393924e-01  9.81313750e-01  1.19075215e-03  2.17231377e-04\n",
      "  -9.11768782e-04  1.40268972e-03  9.99729693e-01  1.65703492e-04\n",
      "   1.53035463e-04 -2.00217836e-03  9.58446999e-03  9.58446999e-03]\n",
      " [ 9.60773835e-01  1.54644746e-04  7.73332223e-01  9.93075240e-02\n",
      "   9.99959262e-01  9.75416411e-01  1.98541986e-04  1.00000000e+00\n",
      "   2.15471897e-04  1.71855296e-04  9.99653111e-01  9.99902741e-01\n",
      "   9.75343509e-01  9.89389947e-01  2.01264602e-04  9.99862888e-01\n",
      "   9.99736848e-01  9.34183549e-01 -9.93341105e-01 -9.93341105e-01]\n",
      " [ 1.31157264e-03  8.94427191e-01  2.20801983e-03 -6.54248592e-03\n",
      "   1.96052728e-04  4.09154709e-04  9.86393924e-01  2.15471897e-04\n",
      "   1.00000000e+00  9.36329178e-01  1.12029902e-03  3.45107585e-04\n",
      "  -5.41950736e-04  1.47422936e-03  9.89949494e-01  1.79833225e-04\n",
      "   1.66084979e-04 -1.95491212e-03  9.01738648e-03  9.01738648e-03]\n",
      " [ 1.26327749e-03  9.94505453e-01  3.84171713e-04 -8.83464480e-03\n",
      "   1.56367025e-04  4.35144899e-04  9.81313750e-01  1.71855296e-04\n",
      "   9.36329178e-01  1.00000000e+00  1.23199823e-03  6.00450098e-05\n",
      "  -1.31305087e-03  1.27041046e-03  9.76574949e-01  1.43430733e-04\n",
      "   1.32465456e-04 -1.98820200e-03  9.91646334e-03  9.91646334e-03]\n",
      " [ 9.67368055e-01  1.23514424e-03  7.88751503e-01  1.23855425e-01\n",
      "   9.99393310e-01  9.80552863e-01  1.19075215e-03  9.99653111e-01\n",
      "   1.12029902e-03  1.23199823e-03  1.00000000e+00  9.99870055e-01\n",
      "   9.80495457e-01  9.92710745e-01  1.18275794e-03  9.99114142e-01\n",
      "   9.98833281e-01  9.42677730e-01 -9.90194558e-01 -9.90194558e-01]\n",
      " [ 9.63787914e-01 -2.64139826e-05  7.80473819e-01  1.10241966e-01\n",
      "   9.99766346e-01  9.77779014e-01  2.17231377e-04  9.99902741e-01\n",
      "   3.45107585e-04  6.00450098e-05  9.99870055e-01  1.00000000e+00\n",
      "   9.77761350e-01  9.90967602e-01  2.35675079e-04  9.99590149e-01\n",
      "   9.99396499e-01  9.38057237e-01 -9.92140987e-01 -9.92140987e-01]\n",
      " [ 9.98206883e-01 -1.51080829e-03  8.93984591e-01  3.16188998e-01\n",
      "   9.73323336e-01  9.99936306e-01 -9.11768782e-04  9.75343509e-01\n",
      "  -5.41950736e-04 -1.31305087e-03  9.80495457e-01  9.77761350e-01\n",
      "   1.00000000e+00  9.96995102e-01 -8.60976572e-04  9.71576582e-01\n",
      "   9.70053689e-01  9.89600416e-01 -9.46899295e-01 -9.46899295e-01]\n",
      " [ 9.90825412e-01  1.17854691e-03  8.57083996e-01  2.42143547e-01\n",
      "   9.88048277e-01  9.97009564e-01  1.40268972e-03  9.89389947e-01\n",
      "   1.47422936e-03  1.27041046e-03  9.92710745e-01  9.90967602e-01\n",
      "   9.96995102e-01  1.00000000e+00  1.41512684e-03  9.86866886e-01\n",
      "   9.85822257e-01  9.75857312e-01 -9.67992424e-01 -9.67992424e-01]\n",
      " [ 1.31257365e-03  9.48683298e-01  1.50786384e-03 -7.56771865e-03\n",
      "   1.83125850e-04  4.26003121e-04  9.99729693e-01  2.01264602e-04\n",
      "   9.89949494e-01  9.76574949e-01  1.18275794e-03  2.35675079e-04\n",
      "  -8.60976572e-04  1.41512684e-03  1.00000000e+00  1.67975792e-04\n",
      "   1.55134046e-04 -1.99880527e-03  9.52012386e-03  9.52012386e-03]\n",
      " [ 9.56067307e-01  1.29066778e-04  7.62771694e-01  8.28822346e-02\n",
      "   9.99971624e-01  9.71646719e-01  1.65703492e-04  9.99862888e-01\n",
      "   1.79833225e-04  1.43430733e-04  9.99114142e-01  9.99590149e-01\n",
      "   9.71576582e-01  9.86866886e-01  1.67975792e-04  1.00000000e+00\n",
      "   9.99979636e-01  9.28179396e-01 -9.94857375e-01 -9.94857375e-01]\n",
      " [ 9.54183428e-01  1.19199626e-04  7.58645845e-01  7.65458894e-02\n",
      "   9.99903183e-01  9.70122754e-01  1.53035463e-04  9.99736848e-01\n",
      "   1.66084979e-04  1.32465456e-04  9.98833281e-01  9.99396499e-01\n",
      "   9.70053689e-01  9.85822257e-01  1.55134046e-04  9.99979636e-01\n",
      "   1.00000000e+00  9.25797456e-01 -9.95368913e-01 -9.95368913e-01]\n",
      " [ 9.96217172e-01 -1.94946087e-03  9.47771810e-01  4.46368025e-01\n",
      "   9.30942473e-01  9.89673409e-01 -2.00217836e-03  9.34183549e-01\n",
      "  -1.95491212e-03 -1.98820200e-03  9.42677730e-01  9.38057237e-01\n",
      "   9.89600416e-01  9.75857312e-01 -1.99880527e-03  9.28179396e-01\n",
      "   9.25797456e-01  1.00000000e+00 -8.92635152e-01 -8.92635152e-01]\n",
      " [-9.26449512e-01  9.94178586e-03 -7.04886110e-01  1.85676071e-04\n",
      "  -9.94201392e-01 -9.46958545e-01  9.58446999e-03 -9.93341105e-01\n",
      "   9.01738648e-03  9.91646334e-03 -9.90194558e-01 -9.92140987e-01\n",
      "  -9.46899295e-01 -9.67992424e-01  9.52012386e-03 -9.94857375e-01\n",
      "  -9.95368913e-01 -8.92635152e-01  1.00000000e+00  1.00000000e+00]\n",
      " [-9.26449512e-01  9.94178586e-03 -7.04886110e-01  1.85676071e-04\n",
      "  -9.94201392e-01 -9.46958545e-01  9.58446999e-03 -9.93341105e-01\n",
      "   9.01738648e-03  9.91646334e-03 -9.90194558e-01 -9.92140987e-01\n",
      "  -9.46899295e-01 -9.67992424e-01  9.52012386e-03 -9.94857375e-01\n",
      "  -9.95368913e-01 -8.92635152e-01  1.00000000e+00  1.00000000e+00]]\n"
     ]
    }
   ],
   "source": [
    "from sklearn.metrics.pairwise import cosine_similarity\n",
    "\n",
    "# Ganti nilai 'N/A' dengan 0 di seluruh DataFrame\n",
    "combined_features_df = combined_features_df.replace(\"N/A\", 0)\n",
    "\n",
    "# Pastikan DataFrame hanya berisi nilai numerik\n",
    "combined_features_df = combined_features_df.apply(pd.to_numeric, errors='coerce').fillna(0)\n",
    "\n",
    "# Sekarang, kita dapat menghitung similarity matrix\n",
    "similarity_matrix = cosine_similarity(combined_features_df)\n",
    "\n",
    "# Tampilkan similarity matrix\n",
    "print(similarity_matrix)\n"
   ]
  },
  {
   "cell_type": "code",
   "execution_count": 239,
   "id": "780ffe76",
   "metadata": {},
   "outputs": [],
   "source": [
    "similarity_matrix = cosine_similarity(combined_features_df)"
   ]
  },
  {
   "cell_type": "code",
   "execution_count": 240,
   "id": "91217a2c",
   "metadata": {},
   "outputs": [
    {
     "name": "stdout",
     "output_type": "stream",
     "text": [
      "[[ 1.00000000e+00  1.21795676e-03  9.18567266e-01  3.70797933e-01\n",
      "   9.58240993e-01  9.98242913e-01  1.31021466e-03  9.60773835e-01\n",
      "   1.31157264e-03  1.26327749e-03  9.67368055e-01  9.63787914e-01\n",
      "   9.98206883e-01  9.90825412e-01  1.31257365e-03  9.56067307e-01\n",
      "   9.54183428e-01  9.96217172e-01 -9.26449512e-01 -9.26449512e-01]\n",
      " [ 1.21795676e-03  1.00000000e+00 -1.68998306e-04 -9.30178436e-03\n",
      "   1.40707557e-04  4.32242409e-04  9.55779009e-01  1.54644746e-04\n",
      "   8.94427191e-01  9.94505453e-01  1.23514424e-03 -2.64139826e-05\n",
      "  -1.51080829e-03  1.17854691e-03  9.48683298e-01  1.29066778e-04\n",
      "   1.19199626e-04 -1.94946087e-03  9.94178586e-03  9.94178586e-03]\n",
      " [ 9.18567266e-01 -1.68998306e-04  1.00000000e+00  7.05334964e-01\n",
      "   7.67602016e-01  8.93781374e-01  1.38985988e-03  7.73332223e-01\n",
      "   2.20801983e-03  3.84171713e-04  7.88751503e-01  7.80473819e-01\n",
      "   8.93984591e-01  8.57083996e-01  1.50786384e-03  7.62771694e-01\n",
      "   7.58645845e-01  9.47771810e-01 -7.04886110e-01 -7.04886110e-01]\n",
      " [ 3.70797933e-01 -9.30178436e-03  7.05334964e-01  1.00000000e+00\n",
      "   9.03575417e-02  3.15794653e-01 -7.72171617e-03  9.93075240e-02\n",
      "  -6.54248592e-03 -8.83464480e-03  1.23855425e-01  1.10241966e-01\n",
      "   3.16188998e-01  2.42143547e-01 -7.56771865e-03  8.28822346e-02\n",
      "   7.65458894e-02  4.46368025e-01  1.85676071e-04  1.85676071e-04]\n",
      " [ 9.58240993e-01  1.40707557e-04  7.67602016e-01  9.03575417e-02\n",
      "   1.00000000e+00  9.73394732e-01  1.80648606e-04  9.99959262e-01\n",
      "   1.96052728e-04  1.56367025e-04  9.99393310e-01  9.99766346e-01\n",
      "   9.73323336e-01  9.88048277e-01  1.83125850e-04  9.99971624e-01\n",
      "   9.99903183e-01  9.30942473e-01 -9.94201392e-01 -9.94201392e-01]\n",
      " [ 9.98242913e-01  4.32242409e-04  8.93781374e-01  3.15794653e-01\n",
      "   9.73394732e-01  1.00000000e+00  4.27953949e-04  9.75416411e-01\n",
      "   4.09154709e-04  4.35144899e-04  9.80552863e-01  9.77779014e-01\n",
      "   9.99936306e-01  9.97009564e-01  4.26003121e-04  9.71646719e-01\n",
      "   9.70122754e-01  9.89673409e-01 -9.46958545e-01 -9.46958545e-01]\n",
      " [ 1.31021466e-03  9.55779009e-01  1.38985988e-03 -7.72171617e-03\n",
      "   1.80648606e-04  4.27953949e-04  1.00000000e+00  1.98541986e-04\n",
      "   9.86393924e-01  9.81313750e-01  1.19075215e-03  2.17231377e-04\n",
      "  -9.11768782e-04  1.40268972e-03  9.99729693e-01  1.65703492e-04\n",
      "   1.53035463e-04 -2.00217836e-03  9.58446999e-03  9.58446999e-03]\n",
      " [ 9.60773835e-01  1.54644746e-04  7.73332223e-01  9.93075240e-02\n",
      "   9.99959262e-01  9.75416411e-01  1.98541986e-04  1.00000000e+00\n",
      "   2.15471897e-04  1.71855296e-04  9.99653111e-01  9.99902741e-01\n",
      "   9.75343509e-01  9.89389947e-01  2.01264602e-04  9.99862888e-01\n",
      "   9.99736848e-01  9.34183549e-01 -9.93341105e-01 -9.93341105e-01]\n",
      " [ 1.31157264e-03  8.94427191e-01  2.20801983e-03 -6.54248592e-03\n",
      "   1.96052728e-04  4.09154709e-04  9.86393924e-01  2.15471897e-04\n",
      "   1.00000000e+00  9.36329178e-01  1.12029902e-03  3.45107585e-04\n",
      "  -5.41950736e-04  1.47422936e-03  9.89949494e-01  1.79833225e-04\n",
      "   1.66084979e-04 -1.95491212e-03  9.01738648e-03  9.01738648e-03]\n",
      " [ 1.26327749e-03  9.94505453e-01  3.84171713e-04 -8.83464480e-03\n",
      "   1.56367025e-04  4.35144899e-04  9.81313750e-01  1.71855296e-04\n",
      "   9.36329178e-01  1.00000000e+00  1.23199823e-03  6.00450098e-05\n",
      "  -1.31305087e-03  1.27041046e-03  9.76574949e-01  1.43430733e-04\n",
      "   1.32465456e-04 -1.98820200e-03  9.91646334e-03  9.91646334e-03]\n",
      " [ 9.67368055e-01  1.23514424e-03  7.88751503e-01  1.23855425e-01\n",
      "   9.99393310e-01  9.80552863e-01  1.19075215e-03  9.99653111e-01\n",
      "   1.12029902e-03  1.23199823e-03  1.00000000e+00  9.99870055e-01\n",
      "   9.80495457e-01  9.92710745e-01  1.18275794e-03  9.99114142e-01\n",
      "   9.98833281e-01  9.42677730e-01 -9.90194558e-01 -9.90194558e-01]\n",
      " [ 9.63787914e-01 -2.64139826e-05  7.80473819e-01  1.10241966e-01\n",
      "   9.99766346e-01  9.77779014e-01  2.17231377e-04  9.99902741e-01\n",
      "   3.45107585e-04  6.00450098e-05  9.99870055e-01  1.00000000e+00\n",
      "   9.77761350e-01  9.90967602e-01  2.35675079e-04  9.99590149e-01\n",
      "   9.99396499e-01  9.38057237e-01 -9.92140987e-01 -9.92140987e-01]\n",
      " [ 9.98206883e-01 -1.51080829e-03  8.93984591e-01  3.16188998e-01\n",
      "   9.73323336e-01  9.99936306e-01 -9.11768782e-04  9.75343509e-01\n",
      "  -5.41950736e-04 -1.31305087e-03  9.80495457e-01  9.77761350e-01\n",
      "   1.00000000e+00  9.96995102e-01 -8.60976572e-04  9.71576582e-01\n",
      "   9.70053689e-01  9.89600416e-01 -9.46899295e-01 -9.46899295e-01]\n",
      " [ 9.90825412e-01  1.17854691e-03  8.57083996e-01  2.42143547e-01\n",
      "   9.88048277e-01  9.97009564e-01  1.40268972e-03  9.89389947e-01\n",
      "   1.47422936e-03  1.27041046e-03  9.92710745e-01  9.90967602e-01\n",
      "   9.96995102e-01  1.00000000e+00  1.41512684e-03  9.86866886e-01\n",
      "   9.85822257e-01  9.75857312e-01 -9.67992424e-01 -9.67992424e-01]\n",
      " [ 1.31257365e-03  9.48683298e-01  1.50786384e-03 -7.56771865e-03\n",
      "   1.83125850e-04  4.26003121e-04  9.99729693e-01  2.01264602e-04\n",
      "   9.89949494e-01  9.76574949e-01  1.18275794e-03  2.35675079e-04\n",
      "  -8.60976572e-04  1.41512684e-03  1.00000000e+00  1.67975792e-04\n",
      "   1.55134046e-04 -1.99880527e-03  9.52012386e-03  9.52012386e-03]\n",
      " [ 9.56067307e-01  1.29066778e-04  7.62771694e-01  8.28822346e-02\n",
      "   9.99971624e-01  9.71646719e-01  1.65703492e-04  9.99862888e-01\n",
      "   1.79833225e-04  1.43430733e-04  9.99114142e-01  9.99590149e-01\n",
      "   9.71576582e-01  9.86866886e-01  1.67975792e-04  1.00000000e+00\n",
      "   9.99979636e-01  9.28179396e-01 -9.94857375e-01 -9.94857375e-01]\n",
      " [ 9.54183428e-01  1.19199626e-04  7.58645845e-01  7.65458894e-02\n",
      "   9.99903183e-01  9.70122754e-01  1.53035463e-04  9.99736848e-01\n",
      "   1.66084979e-04  1.32465456e-04  9.98833281e-01  9.99396499e-01\n",
      "   9.70053689e-01  9.85822257e-01  1.55134046e-04  9.99979636e-01\n",
      "   1.00000000e+00  9.25797456e-01 -9.95368913e-01 -9.95368913e-01]\n",
      " [ 9.96217172e-01 -1.94946087e-03  9.47771810e-01  4.46368025e-01\n",
      "   9.30942473e-01  9.89673409e-01 -2.00217836e-03  9.34183549e-01\n",
      "  -1.95491212e-03 -1.98820200e-03  9.42677730e-01  9.38057237e-01\n",
      "   9.89600416e-01  9.75857312e-01 -1.99880527e-03  9.28179396e-01\n",
      "   9.25797456e-01  1.00000000e+00 -8.92635152e-01 -8.92635152e-01]\n",
      " [-9.26449512e-01  9.94178586e-03 -7.04886110e-01  1.85676071e-04\n",
      "  -9.94201392e-01 -9.46958545e-01  9.58446999e-03 -9.93341105e-01\n",
      "   9.01738648e-03  9.91646334e-03 -9.90194558e-01 -9.92140987e-01\n",
      "  -9.46899295e-01 -9.67992424e-01  9.52012386e-03 -9.94857375e-01\n",
      "  -9.95368913e-01 -8.92635152e-01  1.00000000e+00  1.00000000e+00]\n",
      " [-9.26449512e-01  9.94178586e-03 -7.04886110e-01  1.85676071e-04\n",
      "  -9.94201392e-01 -9.46958545e-01  9.58446999e-03 -9.93341105e-01\n",
      "   9.01738648e-03  9.91646334e-03 -9.90194558e-01 -9.92140987e-01\n",
      "  -9.46899295e-01 -9.67992424e-01  9.52012386e-03 -9.94857375e-01\n",
      "  -9.95368913e-01 -8.92635152e-01  1.00000000e+00  1.00000000e+00]]\n"
     ]
    }
   ],
   "source": [
    "print(similarity_matrix)"
   ]
  },
  {
   "cell_type": "code",
   "execution_count": 241,
   "id": "2f1a36cb",
   "metadata": {},
   "outputs": [],
   "source": [
    "knn = NearestNeighbors(n_neighbors=5, metric='cosine') "
   ]
  },
  {
   "cell_type": "code",
   "execution_count": 242,
   "id": "6bdcf1ad",
   "metadata": {},
   "outputs": [
    {
     "data": {
      "text/html": [
       "<style>#sk-container-id-4 {color: black;}#sk-container-id-4 pre{padding: 0;}#sk-container-id-4 div.sk-toggleable {background-color: white;}#sk-container-id-4 label.sk-toggleable__label {cursor: pointer;display: block;width: 100%;margin-bottom: 0;padding: 0.3em;box-sizing: border-box;text-align: center;}#sk-container-id-4 label.sk-toggleable__label-arrow:before {content: \"▸\";float: left;margin-right: 0.25em;color: #696969;}#sk-container-id-4 label.sk-toggleable__label-arrow:hover:before {color: black;}#sk-container-id-4 div.sk-estimator:hover label.sk-toggleable__label-arrow:before {color: black;}#sk-container-id-4 div.sk-toggleable__content {max-height: 0;max-width: 0;overflow: hidden;text-align: left;background-color: #f0f8ff;}#sk-container-id-4 div.sk-toggleable__content pre {margin: 0.2em;color: black;border-radius: 0.25em;background-color: #f0f8ff;}#sk-container-id-4 input.sk-toggleable__control:checked~div.sk-toggleable__content {max-height: 200px;max-width: 100%;overflow: auto;}#sk-container-id-4 input.sk-toggleable__control:checked~label.sk-toggleable__label-arrow:before {content: \"▾\";}#sk-container-id-4 div.sk-estimator input.sk-toggleable__control:checked~label.sk-toggleable__label {background-color: #d4ebff;}#sk-container-id-4 div.sk-label input.sk-toggleable__control:checked~label.sk-toggleable__label {background-color: #d4ebff;}#sk-container-id-4 input.sk-hidden--visually {border: 0;clip: rect(1px 1px 1px 1px);clip: rect(1px, 1px, 1px, 1px);height: 1px;margin: -1px;overflow: hidden;padding: 0;position: absolute;width: 1px;}#sk-container-id-4 div.sk-estimator {font-family: monospace;background-color: #f0f8ff;border: 1px dotted black;border-radius: 0.25em;box-sizing: border-box;margin-bottom: 0.5em;}#sk-container-id-4 div.sk-estimator:hover {background-color: #d4ebff;}#sk-container-id-4 div.sk-parallel-item::after {content: \"\";width: 100%;border-bottom: 1px solid gray;flex-grow: 1;}#sk-container-id-4 div.sk-label:hover label.sk-toggleable__label {background-color: #d4ebff;}#sk-container-id-4 div.sk-serial::before {content: \"\";position: absolute;border-left: 1px solid gray;box-sizing: border-box;top: 0;bottom: 0;left: 50%;z-index: 0;}#sk-container-id-4 div.sk-serial {display: flex;flex-direction: column;align-items: center;background-color: white;padding-right: 0.2em;padding-left: 0.2em;position: relative;}#sk-container-id-4 div.sk-item {position: relative;z-index: 1;}#sk-container-id-4 div.sk-parallel {display: flex;align-items: stretch;justify-content: center;background-color: white;position: relative;}#sk-container-id-4 div.sk-item::before, #sk-container-id-4 div.sk-parallel-item::before {content: \"\";position: absolute;border-left: 1px solid gray;box-sizing: border-box;top: 0;bottom: 0;left: 50%;z-index: -1;}#sk-container-id-4 div.sk-parallel-item {display: flex;flex-direction: column;z-index: 1;position: relative;background-color: white;}#sk-container-id-4 div.sk-parallel-item:first-child::after {align-self: flex-end;width: 50%;}#sk-container-id-4 div.sk-parallel-item:last-child::after {align-self: flex-start;width: 50%;}#sk-container-id-4 div.sk-parallel-item:only-child::after {width: 0;}#sk-container-id-4 div.sk-dashed-wrapped {border: 1px dashed gray;margin: 0 0.4em 0.5em 0.4em;box-sizing: border-box;padding-bottom: 0.4em;background-color: white;}#sk-container-id-4 div.sk-label label {font-family: monospace;font-weight: bold;display: inline-block;line-height: 1.2em;}#sk-container-id-4 div.sk-label-container {text-align: center;}#sk-container-id-4 div.sk-container {/* jupyter's `normalize.less` sets `[hidden] { display: none; }` but bootstrap.min.css set `[hidden] { display: none !important; }` so we also need the `!important` here to be able to override the default hidden behavior on the sphinx rendered scikit-learn.org. See: https://github.com/scikit-learn/scikit-learn/issues/21755 */display: inline-block !important;position: relative;}#sk-container-id-4 div.sk-text-repr-fallback {display: none;}</style><div id=\"sk-container-id-4\" class=\"sk-top-container\"><div class=\"sk-text-repr-fallback\"><pre>NearestNeighbors(metric=&#x27;cosine&#x27;)</pre><b>In a Jupyter environment, please rerun this cell to show the HTML representation or trust the notebook. <br />On GitHub, the HTML representation is unable to render, please try loading this page with nbviewer.org.</b></div><div class=\"sk-container\" hidden><div class=\"sk-item\"><div class=\"sk-estimator sk-toggleable\"><input class=\"sk-toggleable__control sk-hidden--visually\" id=\"sk-estimator-id-4\" type=\"checkbox\" checked><label for=\"sk-estimator-id-4\" class=\"sk-toggleable__label sk-toggleable__label-arrow\">NearestNeighbors</label><div class=\"sk-toggleable__content\"><pre>NearestNeighbors(metric=&#x27;cosine&#x27;)</pre></div></div></div></div></div>"
      ],
      "text/plain": [
       "NearestNeighbors(metric='cosine')"
      ]
     },
     "execution_count": 242,
     "metadata": {},
     "output_type": "execute_result"
    }
   ],
   "source": [
    "knn.fit(combined_features_df)"
   ]
  },
  {
   "cell_type": "code",
   "execution_count": 414,
   "id": "d73fa2d7",
   "metadata": {},
   "outputs": [
    {
     "name": "stderr",
     "output_type": "stream",
     "text": [
      "c:\\Users\\ACER\\miniconda3\\envs\\latihan\\lib\\site-packages\\sklearn\\base.py:465: UserWarning: X does not have valid feature names, but NearestNeighbors was fitted with feature names\n",
      "  warnings.warn(\n"
     ]
    }
   ],
   "source": [
    "dataset_id = 0 \n",
    "distances, indices = knn.kneighbors([combined_features_df.iloc[dataset_id]])"
   ]
  },
  {
   "cell_type": "code",
   "execution_count": 415,
   "id": "f3850311",
   "metadata": {},
   "outputs": [
    {
     "name": "stdout",
     "output_type": "stream",
     "text": [
      "Rekomendasi untuk dataset 'Bahasa Isyarat Indonesia (BISINDO) is a sign language that applies in Indonesia.':\n",
      "- The Indonesia Election News Dataset 2024 (Berita Pemilu 2024) in detik.com (Jarak: 0.0018)\n",
      "- Contains all the stocks in Jakarta Composite Index/IHSG (minutes, hourly, daily) (Jarak: 0.0018)\n",
      "- Aggregated from 3 news sources (Jarak: 0.0038)\n",
      "- 📊 Hospital Data in Indonesia 🏥 (Complete with Class, Ownership and Capacity)🏥 (Jarak: 0.0092)\n"
     ]
    }
   ],
   "source": [
    "print(f\"Rekomendasi untuk dataset '{descriptions[dataset_id]}':\")\n",
    "for i in range(1, len(indices[0])):  # Mulai dari 1 untuk menghindari merekomendasikan dirinya sendiri\n",
    "    recommended_dataset = indices[0][i]\n",
    "    print(f\"- {descriptions[recommended_dataset]} (Jarak: {distances[0][i]:.4f})\")"
   ]
  },
  {
   "cell_type": "code",
   "execution_count": 416,
   "id": "5645ff08",
   "metadata": {},
   "outputs": [
    {
     "name": "stderr",
     "output_type": "stream",
     "text": [
      "c:\\Users\\ACER\\miniconda3\\envs\\latihan\\lib\\site-packages\\sklearn\\base.py:465: UserWarning: X does not have valid feature names, but NearestNeighbors was fitted with feature names\n",
      "  warnings.warn(\n"
     ]
    }
   ],
   "source": [
    "dataset_i = 1\n",
    "distances, indices = knn.kneighbors([combined_features_df.iloc[dataset_i]])"
   ]
  },
  {
   "cell_type": "code",
   "execution_count": 417,
   "id": "762b33c9",
   "metadata": {},
   "outputs": [
    {
     "name": "stdout",
     "output_type": "stream",
     "text": [
      "Rekomendasi untuk dataset 'Hourly measurement of air pollution':\n",
      "- Plate number of Indramayu / Cirebon Area (E) (Jarak: 0.0)\n",
      "- Klasifikasi Tingkat Kemiskinan Menggunakan Regresi Logistik (Jarak: 0.0)\n",
      "- Scraped from rumah123.com (20/03/2024 - 21/05/2024) (Jarak: 0.1)\n",
      "- Multi-Labeled Hate Speech and Abusive Indonesian Twitter Text by okkyibrohim (Jarak: 0.1)\n"
     ]
    }
   ],
   "source": [
    "print(f\"Rekomendasi untuk dataset '{descriptions[dataset_i]}':\")\n",
    "for i in range(1, len(indices[0])):  # Mulai dari 1 untuk menghindari merekomendasikan dirinya sendiri\n",
    "    recommended_dataset = indices[0][i]\n",
    "    print(f\"- {descriptions[recommended_dataset]} (Jarak: {distances[0][i]:.1f})\")"
   ]
  },
  {
   "cell_type": "code",
   "execution_count": 247,
   "id": "1dc0485c",
   "metadata": {},
   "outputs": [],
   "source": [
    "from sklearn.feature_extraction.text import TfidfVectorizer\n",
    "from sklearn.metrics.pairwise import cosine_similarity"
   ]
  },
  {
   "cell_type": "code",
   "execution_count": 248,
   "id": "e3f1657f",
   "metadata": {},
   "outputs": [],
   "source": [
    "titles = []"
   ]
  },
  {
   "cell_type": "code",
   "execution_count": 249,
   "id": "d7c16e93",
   "metadata": {},
   "outputs": [],
   "source": [
    "for subject in graph.subjects(rdflib.RDF.type, rdflib.URIRef(\"http://www.w3.org/ns/dcat#Dataset\")):\n",
    "    title = graph.value(subject, rdflib.URIRef(\"http://www.w3.org/ns/dcat#title\"))\n",
    "    if title and description:\n",
    "        titles.append(str(title))"
   ]
  },
  {
   "cell_type": "code",
   "execution_count": 384,
   "id": "0ff8e7e7",
   "metadata": {},
   "outputs": [],
   "source": [
    "from googletrans import Translator\n",
    "\n",
    "def recommend_datasets_by_keyword(keyword, titles, descriptions, top_n=5):\n",
    "    keyword_lower = keyword.lower()  # Menggunakan keyword dalam lowercase\n",
    "    relevant_datasets = []\n",
    "    \n",
    "    # Menggunakan Google Translate untuk terjemahan otomatis\n",
    "    translator = Translator()\n",
    "    keyword_en = translator.translate(keyword, src='id', dest='en').text.lower()  # Terjemahkan ke bahasa Inggris\n",
    "    \n",
    "    for idx, description in enumerate(descriptions):\n",
    "        # Cek apakah keyword dalam bahasa Indonesia atau terjemahannya dalam bahasa Inggris ada di deskripsi atau judul\n",
    "        if keyword_lower in description.lower() or keyword_en in description.lower() or \\\n",
    "            keyword_lower in titles[idx].lower() or keyword_en in titles[idx].lower():\n",
    "            relevant_datasets.append((titles[idx], descriptions[idx]))  # Menambahkan title dan description\n",
    "    \n",
    "    # Mengembalikan daftar yang relevan\n",
    "    return relevant_datasets[:top_n]"
   ]
  },
  {
   "cell_type": "code",
   "execution_count": 385,
   "id": "903b95c8",
   "metadata": {},
   "outputs": [
    {
     "data": {
      "text/plain": [
       "[('Dataset Saham Indonesia / Indonesia Stock Dataset',\n",
       "  'Contains all the stocks in Jakarta Composite Index/IHSG (minutes, hourly, daily)'),\n",
       " ('Pergerakan Saham di Bursa Efek Indonesia',\n",
       "  'Pergerakan saham-saham di Bursa Efek Indonesia')]"
      ]
     },
     "execution_count": 385,
     "metadata": {},
     "output_type": "execute_result"
    }
   ],
   "source": [
    "keyword = \"saham\" \n",
    "recommend_datasets_by_keyword(keyword, titles, descriptions)"
   ]
  },
  {
   "cell_type": "code",
   "execution_count": 386,
   "id": "84700cf7",
   "metadata": {},
   "outputs": [
    {
     "data": {
      "text/plain": [
       "[('Air Quality in Yogyakarta, Indonesia (2021)',\n",
       "  'Hourly measurement of air pollution')]"
      ]
     },
     "execution_count": 386,
     "metadata": {},
     "output_type": "execute_result"
    }
   ],
   "source": [
    "keyword = \"polusi\" \n",
    "recommend_datasets_by_keyword(keyword, titles, descriptions)"
   ]
  },
  {
   "cell_type": "code",
   "execution_count": 405,
   "id": "a85a8f65",
   "metadata": {},
   "outputs": [
    {
     "data": {
      "text/plain": [
       "[('Bahasa Isyarat Indonesia (BISINDO) Alphabets',\n",
       "  'Bahasa Isyarat Indonesia (BISINDO) is a sign language that applies in Indonesia.'),\n",
       " ('Air Quality in Yogyakarta, Indonesia (2021)',\n",
       "  'Hourly measurement of air pollution'),\n",
       " ('Population of Indonesia (2050-1955)',\n",
       "  'Historical Population. Population Forecast, Population in Major Cities'),\n",
       " ('Data Wilayah Republic Indonesia',\n",
       "  'Kaggle is the world’s largest data science community with powerful tools and resources to help you achieve your data science goals.'),\n",
       " ('Dataset Tanaman Padi Sumatera, Indonesia',\n",
       "  'Dataset Hasil Produksi dari tahun 1993-2020')]"
      ]
     },
     "execution_count": 405,
     "metadata": {},
     "output_type": "execute_result"
    }
   ],
   "source": [
    "keyword = \"indonesia\" \n",
    "recommend_datasets_by_keyword(keyword, titles, descriptions)"
   ]
  },
  {
   "cell_type": "code",
   "execution_count": null,
   "id": "a91cb3e5",
   "metadata": {},
   "outputs": [],
   "source": [
    "def precision_at_k(recommended, relevant, k=5):\n",
    "    recommended_at_k = recommended[:k]\n",
    "    relevant_set = set(relevant)\n",
    "    recommended_set_at_k = set(recommended_at_k)\n",
    "    \n",
    "    # Menghitung presisi\n",
    "    return len(recommended_set_at_k.intersection(relevant_set)) / len(recommended_set_at_k) if recommended_set_at_k else 0"
   ]
  },
  {
   "cell_type": "code",
   "execution_count": 388,
   "id": "ddc6be2a",
   "metadata": {},
   "outputs": [],
   "source": [
    "# Fungsi untuk menghitung recall\n",
    "def recall_at_k(recommended, relevant, k=5):\n",
    "    recommended_at_k = recommended[:k]  # Ambil k rekomendasi pertama\n",
    "    relevant_set = set(relevant)  # Set dari ground truth relevan\n",
    "    \n",
    "    # Menghitung recall\n",
    "    return len(set(recommended_at_k).intersection(relevant_set)) / len(relevant_set) if relevant_set else 0"
   ]
  },
  {
   "cell_type": "code",
   "execution_count": 389,
   "id": "574539bf",
   "metadata": {},
   "outputs": [],
   "source": [
    "def ndcg_at_k(recommended, relevant, k=5):\n",
    "    recommended_at_k = recommended[:k]\n",
    "    \n",
    "    # Menghitung NDCG\n",
    "    dcg = sum(1 / np.log2(i + 2) for i in range(len(recommended_at_k)) if recommended_at_k[i] in relevant)\n",
    "    idcg = sum(1 / np.log2(i + 2) for i in range(min(len(relevant), k)) if relevant[i] in recommended_at_k)\n",
    "    \n",
    "    return dcg / idcg if idcg > 0 else 0"
   ]
  },
  {
   "cell_type": "code",
   "execution_count": 409,
   "id": "331deba2",
   "metadata": {},
   "outputs": [],
   "source": [
    "def evaluate_recommendations(keyword, ground_truth, titles, descriptions, top_n=5):\n",
    "    # Mendapatkan rekomendasi dari kata kunci\n",
    "    recommended_datasets = recommend_datasets_by_keyword(keyword, titles, descriptions, top_n)  # Ambil rekomendasi\n",
    "    \n",
    "    # Menghitung evaluasi\n",
    "    recommended_titles = [r[0] for r in recommended_datasets]  # Ambil hanya judul rekomendasi\n",
    "    \n",
    "    # Evaluasi\n",
    "    precision = precision_at_k(recommended_titles, ground_truth, k=top_n)\n",
    "    recall = recall_at_k(recommended_titles, ground_truth, k=top_n)\n",
    "    ndcg = ndcg_at_k(recommended_titles, ground_truth, k=top_n)\n",
    "    \n",
    "    # Menampilkan hasil evaluasi\n",
    "    print(f\"Presisi: {precision:.4f}\")\n",
    "    print(f\"Recall: {recall:.4f}\")\n",
    "    print(f\"NDCG: {ndcg:.4f}\")"
   ]
  },
  {
   "cell_type": "code",
   "execution_count": null,
   "id": "73177991",
   "metadata": {},
   "outputs": [],
   "source": [
    "ground_truth = [\n",
    "    \"Air Quality in Yogyakarta, Indonesia (2021)\"\n",
    "]"
   ]
  },
  {
   "cell_type": "code",
   "execution_count": 397,
   "id": "bf127fe9",
   "metadata": {},
   "outputs": [
    {
     "name": "stdout",
     "output_type": "stream",
     "text": [
      "Presisi: 1.0000\n",
      "Recall: 1.0000\n",
      "NDCG: 1.0000\n"
     ]
    }
   ],
   "source": [
    "evaluate_recommendations(\"pollution\", ground_truth, titles, descriptions, top_n=5)"
   ]
  },
  {
   "cell_type": "code",
   "execution_count": 411,
   "id": "d4d143ff",
   "metadata": {},
   "outputs": [],
   "source": [
    "ground_truth_saham = [\n",
    "    \"Dataset Saham Indonesia / Indonesia Stock Dataset\",  # Referensi: muamkh/ihsgstockdata\n",
    "    \"Saham IDX\"\n",
    "]"
   ]
  },
  {
   "cell_type": "code",
   "execution_count": 412,
   "id": "11b8f61d",
   "metadata": {},
   "outputs": [
    {
     "name": "stdout",
     "output_type": "stream",
     "text": [
      "Presisi: 0.5000\n",
      "Recall: 0.5000\n",
      "NDCG: 1.0000\n"
     ]
    }
   ],
   "source": [
    "evaluate_recommendations(\"saham\", ground_truth_saham, titles, descriptions, top_n=5)"
   ]
  },
  {
   "cell_type": "code",
   "execution_count": 408,
   "id": "ac1bcdcd",
   "metadata": {},
   "outputs": [],
   "source": [
    "ground_truth_indonesia = [\n",
    "    \"Bahasa Isyarat Indonesia (BISINDO) Alphabets\",\n",
    "    \"Air Quality in Yogyakarta, Indonesia (2021)\",\n",
    "    \"Population of Indonesia (2050-1955)\",\n",
    "    \"Data Wilayah Republic Indonesia\",\n",
    "    \"Dataset Tanaman Padi Sumatera, Indonesia\"\n",
    "]"
   ]
  },
  {
   "cell_type": "code",
   "execution_count": 413,
   "id": "56de7fc9",
   "metadata": {},
   "outputs": [
    {
     "name": "stdout",
     "output_type": "stream",
     "text": [
      "Presisi: 1.0000\n",
      "Recall: 1.0000\n",
      "NDCG: 1.0000\n"
     ]
    }
   ],
   "source": [
    "evaluate_recommendations(\"indonesia\", ground_truth_indonesia, titles, descriptions, top_n=5)"
   ]
  },
  {
   "cell_type": "code",
   "execution_count": 418,
   "id": "a9f79f07",
   "metadata": {},
   "outputs": [],
   "source": [
    "import pickle\n",
    "\n",
    "# Simpan model Word2Vec\n",
    "with open(\"word2vec_model.pkl\", \"wb\") as f:\n",
    "    pickle.dump(model, f)\n",
    "\n",
    "# Simpan hasil rekomendasi (jika diinginkan)\n",
    "with open(\"recommendations.pkl\", \"wb\") as f:\n",
    "    pickle.dump(recommended_datasets, f)"
   ]
  }
 ],
 "metadata": {
  "kernelspec": {
   "display_name": "latihan",
   "language": "python",
   "name": "python3"
  },
  "language_info": {
   "codemirror_mode": {
    "name": "ipython",
    "version": 3
   },
   "file_extension": ".py",
   "mimetype": "text/x-python",
   "name": "python",
   "nbconvert_exporter": "python",
   "pygments_lexer": "ipython3",
   "version": "3.8.17"
  }
 },
 "nbformat": 4,
 "nbformat_minor": 5
}
